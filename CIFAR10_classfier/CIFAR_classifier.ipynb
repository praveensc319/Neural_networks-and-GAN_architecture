{
  "nbformat": 4,
  "nbformat_minor": 0,
  "metadata": {
    "colab": {
      "name": "CIFAR_classifier.ipynb",
      "provenance": [],
      "collapsed_sections": []
    },
    "kernelspec": {
      "name": "python3",
      "display_name": "Python 3"
    },
    "language_info": {
      "name": "python"
    }
  },
  "cells": [
    {
      "cell_type": "code",
      "metadata": {
        "id": "mbYGTFqolPHu"
      },
      "source": [
        "import tensorflow as tf\n",
        "from tensorflow.keras import datasets, layers, models\n",
        "import matplotlib.pyplot as plt\n",
        "import numpy as np"
      ],
      "execution_count": null,
      "outputs": []
    },
    {
      "cell_type": "code",
      "metadata": {
        "colab": {
          "base_uri": "https://localhost:8080/"
        },
        "id": "qmnvpsQvlWK3",
        "outputId": "bec96bfc-e7e8-4f89-eca2-5d21ba1ac566"
      },
      "source": [
        "(X_train, y_train), (X_test,y_test) = datasets.cifar10.load_data()\n",
        "X_train.shape"
      ],
      "execution_count": null,
      "outputs": [
        {
          "output_type": "stream",
          "text": [
            "Downloading data from https://www.cs.toronto.edu/~kriz/cifar-10-python.tar.gz\n",
            "170500096/170498071 [==============================] - 2s 0us/step\n"
          ],
          "name": "stdout"
        },
        {
          "output_type": "execute_result",
          "data": {
            "text/plain": [
              "(50000, 32, 32, 3)"
            ]
          },
          "metadata": {
            "tags": []
          },
          "execution_count": 2
        }
      ]
    },
    {
      "cell_type": "code",
      "metadata": {
        "colab": {
          "base_uri": "https://localhost:8080/"
        },
        "id": "luTmWi2RlaN-",
        "outputId": "3191527c-9075-4db1-89e5-97b2f4607c3b"
      },
      "source": [
        "X_test.shape"
      ],
      "execution_count": null,
      "outputs": [
        {
          "output_type": "execute_result",
          "data": {
            "text/plain": [
              "(10000, 32, 32, 3)"
            ]
          },
          "metadata": {
            "tags": []
          },
          "execution_count": 3
        }
      ]
    },
    {
      "cell_type": "code",
      "metadata": {
        "colab": {
          "base_uri": "https://localhost:8080/"
        },
        "id": "oKy57JWXliKL",
        "outputId": "b4d858df-7b80-44eb-da6a-1bcb6bd8b917"
      },
      "source": [
        "y_train.shape"
      ],
      "execution_count": null,
      "outputs": [
        {
          "output_type": "execute_result",
          "data": {
            "text/plain": [
              "(50000, 1)"
            ]
          },
          "metadata": {
            "tags": []
          },
          "execution_count": 4
        }
      ]
    },
    {
      "cell_type": "code",
      "metadata": {
        "colab": {
          "base_uri": "https://localhost:8080/"
        },
        "id": "kqswlIpilnnc",
        "outputId": "93b00eb7-5c7b-4da8-82ea-be5deea142f5"
      },
      "source": [
        "y_train[:5]"
      ],
      "execution_count": null,
      "outputs": [
        {
          "output_type": "execute_result",
          "data": {
            "text/plain": [
              "array([[6],\n",
              "       [9],\n",
              "       [9],\n",
              "       [4],\n",
              "       [1]], dtype=uint8)"
            ]
          },
          "metadata": {
            "tags": []
          },
          "execution_count": 5
        }
      ]
    },
    {
      "cell_type": "code",
      "metadata": {
        "colab": {
          "base_uri": "https://localhost:8080/"
        },
        "id": "P0s-UM3DlsQj",
        "outputId": "8c33fe8f-c259-49ab-cec5-fc3cc10de2d3"
      },
      "source": [
        "y_train = y_train.reshape(-1,)\n",
        "y_train[:5]"
      ],
      "execution_count": null,
      "outputs": [
        {
          "output_type": "execute_result",
          "data": {
            "text/plain": [
              "array([6, 9, 9, 4, 1], dtype=uint8)"
            ]
          },
          "metadata": {
            "tags": []
          },
          "execution_count": 6
        }
      ]
    },
    {
      "cell_type": "code",
      "metadata": {
        "id": "COxi7PfZlvE7"
      },
      "source": [
        "y_test = y_test.reshape(-1,)"
      ],
      "execution_count": null,
      "outputs": []
    },
    {
      "cell_type": "code",
      "metadata": {
        "id": "eI1O__cOlzD3"
      },
      "source": [
        "classes = [\"airplane\",\"automobile\",\"bird\",\"cat\",\"deer\",\"dog\",\"frog\",\"horse\",\"ship\",\"truck\"]"
      ],
      "execution_count": null,
      "outputs": []
    },
    {
      "cell_type": "code",
      "metadata": {
        "id": "JehX31XIl2vQ"
      },
      "source": [
        "def plot_sample(X, y, index):\n",
        "    plt.figure(figsize = (15,2))\n",
        "    plt.imshow(X[index])\n",
        "    plt.xlabel(classes[y[index]])"
      ],
      "execution_count": null,
      "outputs": []
    },
    {
      "cell_type": "code",
      "metadata": {
        "colab": {
          "base_uri": "https://localhost:8080/",
          "height": 173
        },
        "id": "BfVFiv7fl5bA",
        "outputId": "73876f94-a47b-439e-ab3f-c89cf7eb891b"
      },
      "source": [
        "plot_sample(X_train, y_train, 1)"
      ],
      "execution_count": null,
      "outputs": [
        {
          "output_type": "display_data",
          "data": {
            "image/png": "[encoded data removed]",
            "text/plain": [
              "<Figure size 1080x144 with 1 Axes>"
            ]
          },
          "metadata": {
            "tags": [],
            "needs_background": "light"
          }
        }
      ]
    },
    {
      "cell_type": "code",
      "metadata": {
        "colab": {
          "base_uri": "https://localhost:8080/",
          "height": 173
        },
        "id": "t69kZUGzmSU-",
        "outputId": "c5426a5e-d593-422b-a4f8-fc4799297120"
      },
      "source": [
        "plot_sample(X_train, y_train, 5)"
      ],
      "execution_count": null,
      "outputs": [
        {
          "output_type": "display_data",
          "data": {
            "image/png": "[encoded data removed]",
            "text/plain": [
              "<Figure size 1080x144 with 1 Axes>"
            ]
          },
          "metadata": {
            "tags": [],
            "needs_background": "light"
          }
        }
      ]
    },
    {
      "cell_type": "code",
      "metadata": {
        "id": "DHDRD_wQmV7h"
      },
      "source": [
        "X_train = X_train / 255.0\n",
        "X_test = X_test / 255.0"
      ],
      "execution_count": null,
      "outputs": []
    },
    {
      "cell_type": "markdown",
      "metadata": {
        "id": "tbZNjZMnmmXI"
      },
      "source": [
        "ANN model\n"
      ]
    },
    {
      "cell_type": "code",
      "metadata": {
        "colab": {
          "base_uri": "https://localhost:8080/"
        },
        "id": "a4RK1WiimgIM",
        "outputId": "cae98de0-c1a3-4bc7-8f22-07c01813fff1"
      },
      "source": [
        "ann = models.Sequential([\n",
        "        layers.Flatten(input_shape=(32,32,3)),\n",
        "        layers.Dense(3000, activation='relu'),\n",
        "        layers.Dense(1000, activation='relu'),\n",
        "        layers.Dense(10, activation='sigmoid')    \n",
        "    ])\n",
        "\n",
        "ann.compile(optimizer='SGD',\n",
        "              loss='sparse_categorical_crossentropy',\n",
        "              metrics=['accuracy'])\n",
        "\n",
        "ann.fit(X_train, y_train, epochs=5)"
      ],
      "execution_count": null,
      "outputs": [
        {
          "output_type": "stream",
          "text": [
            "Epoch 1/5\n",
            "1563/1563 [==============================] - 99s 63ms/step - loss: 1.9302 - accuracy: 0.3088\n",
            "Epoch 2/5\n",
            "1563/1563 [==============================] - 102s 65ms/step - loss: 1.6473 - accuracy: 0.4210\n",
            "Epoch 3/5\n",
            "1563/1563 [==============================] - 98s 63ms/step - loss: 1.5466 - accuracy: 0.4495\n",
            "Epoch 4/5\n",
            "1563/1563 [==============================] - 99s 63ms/step - loss: 1.4878 - accuracy: 0.4760\n",
            "Epoch 5/5\n",
            "1563/1563 [==============================] - 99s 63ms/step - loss: 1.4344 - accuracy: 0.4973\n"
          ],
          "name": "stdout"
        },
        {
          "output_type": "execute_result",
          "data": {
            "text/plain": [
              "<tensorflow.python.keras.callbacks.History at 0x7ff1284a9050>"
            ]
          },
          "metadata": {
            "tags": []
          },
          "execution_count": 17
        }
      ]
    },
    {
      "cell_type": "code",
      "metadata": {
        "colab": {
          "base_uri": "https://localhost:8080/"
        },
        "id": "e9T3bpoomjOJ",
        "outputId": "ae4e7fd2-9396-4932-e3e9-5d040dee04dc"
      },
      "source": [
        "from sklearn.metrics import confusion_matrix , classification_report\n",
        "import numpy as np\n",
        "y_pred = ann.predict(X_test)\n",
        "y_pred_classes = [np.argmax(element) for element in y_pred]\n",
        "\n",
        "print(\"Classification Report: \\n\", classification_report(y_test, y_pred_classes))"
      ],
      "execution_count": null,
      "outputs": [
        {
          "output_type": "stream",
          "text": [
            "Classification Report: \n",
            "               precision    recall  f1-score   support\n",
            "\n",
            "           0       0.73      0.33      0.46      1000\n",
            "           1       0.68      0.41      0.51      1000\n",
            "           2       0.46      0.17      0.25      1000\n",
            "           3       0.39      0.22      0.28      1000\n",
            "           4       0.45      0.35      0.40      1000\n",
            "           5       0.29      0.52      0.37      1000\n",
            "           6       0.37      0.77      0.50      1000\n",
            "           7       0.69      0.38      0.49      1000\n",
            "           8       0.70      0.44      0.54      1000\n",
            "           9       0.35      0.78      0.48      1000\n",
            "\n",
            "    accuracy                           0.44     10000\n",
            "   macro avg       0.51      0.44      0.43     10000\n",
            "weighted avg       0.51      0.44      0.43     10000\n",
            "\n"
          ],
          "name": "stdout"
        }
      ]
    },
    {
      "cell_type": "code",
      "metadata": {
        "id": "LUGLJh-FowdX"
      },
      "source": [
        "cnn = models.Sequential([\n",
        "    layers.Conv2D(filters=32, kernel_size=(3, 3), activation='relu', input_shape=(32, 32, 3)),\n",
        "    layers.MaxPooling2D((2, 2)),\n",
        "    \n",
        "    layers.Conv2D(filters=64, kernel_size=(3, 3), activation='relu'),\n",
        "    layers.MaxPooling2D((2, 2)),\n",
        "    \n",
        "    layers.Flatten(),\n",
        "    layers.Dense(64, activation='relu'),\n",
        "    layers.Dense(10, activation='softmax')\n",
        "])"
      ],
      "execution_count": null,
      "outputs": []
    },
    {
      "cell_type": "code",
      "metadata": {
        "id": "ujBEG6S7o0y-"
      },
      "source": [
        "cnn.compile(optimizer='adam',\n",
        "              loss='sparse_categorical_crossentropy',\n",
        "              metrics=['accuracy'])"
      ],
      "execution_count": null,
      "outputs": []
    },
    {
      "cell_type": "code",
      "metadata": {
        "colab": {
          "base_uri": "https://localhost:8080/"
        },
        "id": "Uy59PqlRo4Lq",
        "outputId": "c8154b67-1fca-4cf0-9be2-226a69efe086"
      },
      "source": [
        "cnn.fit(X_train, y_train, epochs=20)"
      ],
      "execution_count": null,
      "outputs": [
        {
          "output_type": "stream",
          "text": [
            "Epoch 1/20\n",
            "1563/1563 [==============================] - 60s 38ms/step - loss: 1.7468 - accuracy: 0.3577\n",
            "Epoch 2/20\n",
            "1563/1563 [==============================] - 59s 38ms/step - loss: 1.1896 - accuracy: 0.5797\n",
            "Epoch 3/20\n",
            "1563/1563 [==============================] - 61s 39ms/step - loss: 1.0262 - accuracy: 0.6409\n",
            "Epoch 4/20\n",
            "1563/1563 [==============================] - 59s 38ms/step - loss: 0.9395 - accuracy: 0.6741\n",
            "Epoch 5/20\n",
            "1563/1563 [==============================] - 59s 38ms/step - loss: 0.8693 - accuracy: 0.6987\n",
            "Epoch 6/20\n",
            "1563/1563 [==============================] - 59s 38ms/step - loss: 0.8170 - accuracy: 0.7179\n",
            "Epoch 7/20\n",
            "1563/1563 [==============================] - 59s 38ms/step - loss: 0.7748 - accuracy: 0.7300\n",
            "Epoch 8/20\n",
            "1563/1563 [==============================] - 59s 38ms/step - loss: 0.7216 - accuracy: 0.7497\n",
            "Epoch 9/20\n",
            "1563/1563 [==============================] - 59s 38ms/step - loss: 0.6893 - accuracy: 0.7604\n",
            "Epoch 10/20\n",
            "1563/1563 [==============================] - 59s 38ms/step - loss: 0.6455 - accuracy: 0.7773\n",
            "Epoch 11/20\n",
            "1563/1563 [==============================] - 59s 38ms/step - loss: 0.6163 - accuracy: 0.7875\n",
            "Epoch 12/20\n",
            "1563/1563 [==============================] - 59s 38ms/step - loss: 0.5923 - accuracy: 0.7947\n",
            "Epoch 13/20\n",
            "1563/1563 [==============================] - 59s 37ms/step - loss: 0.5694 - accuracy: 0.8038\n",
            "Epoch 14/20\n",
            "1563/1563 [==============================] - 59s 37ms/step - loss: 0.5428 - accuracy: 0.8107\n",
            "Epoch 15/20\n",
            "1563/1563 [==============================] - 59s 37ms/step - loss: 0.5305 - accuracy: 0.8166\n",
            "Epoch 16/20\n",
            "1563/1563 [==============================] - 59s 38ms/step - loss: 0.4999 - accuracy: 0.8265\n",
            "Epoch 17/20\n",
            "1563/1563 [==============================] - 59s 38ms/step - loss: 0.4890 - accuracy: 0.8326\n",
            "Epoch 18/20\n",
            "1563/1563 [==============================] - 59s 38ms/step - loss: 0.4607 - accuracy: 0.8405\n",
            "Epoch 19/20\n",
            "1563/1563 [==============================] - 58s 37ms/step - loss: 0.4420 - accuracy: 0.8470\n",
            "Epoch 20/20\n",
            "1563/1563 [==============================] - 59s 38ms/step - loss: 0.4308 - accuracy: 0.8476\n"
          ],
          "name": "stdout"
        },
        {
          "output_type": "execute_result",
          "data": {
            "text/plain": [
              "<tensorflow.python.keras.callbacks.History at 0x7ff119e44490>"
            ]
          },
          "metadata": {
            "tags": []
          },
          "execution_count": 21
        }
      ]
    },
    {
      "cell_type": "code",
      "metadata": {
        "colab": {
          "base_uri": "https://localhost:8080/"
        },
        "id": "kIsdAojlo7Aq",
        "outputId": "c01ab067-11b3-4839-b3a5-e15171e400f8"
      },
      "source": [
        "cnn.evaluate(X_test,y_test)"
      ],
      "execution_count": null,
      "outputs": [
        {
          "output_type": "stream",
          "text": [
            "313/313 [==============================] - 4s 12ms/step - loss: 1.0473 - accuracy: 0.7038\n"
          ],
          "name": "stdout"
        },
        {
          "output_type": "execute_result",
          "data": {
            "text/plain": [
              "[1.0473154783248901, 0.7038000226020813]"
            ]
          },
          "metadata": {
            "tags": []
          },
          "execution_count": 22
        }
      ]
    },
    {
      "cell_type": "code",
      "metadata": {
        "colab": {
          "base_uri": "https://localhost:8080/"
        },
        "id": "pfYgoBUhthZV",
        "outputId": "def85feb-412a-4964-af22-33de8d48d727"
      },
      "source": [
        "y_pred = cnn.predict(X_test)\n",
        "y_pred[:5]"
      ],
      "execution_count": null,
      "outputs": [
        {
          "output_type": "execute_result",
          "data": {
            "text/plain": [
              "array([[1.3790434e-05, 2.3348797e-07, 1.0095722e-04, 8.4832692e-01,\n",
              "        8.4135434e-05, 1.4403750e-01, 7.4258116e-03, 7.0182165e-07,\n",
              "        5.5686701e-07, 9.3422586e-06],\n",
              "       [5.5392127e-05, 5.3280252e-03, 9.3261451e-07, 4.9850723e-08,\n",
              "        6.0313508e-12, 9.3844621e-10, 1.2649798e-09, 8.8728616e-12,\n",
              "        9.9461007e-01, 5.5967544e-06],\n",
              "       [2.4192698e-01, 1.5360369e-01, 9.5638394e-04, 1.2130367e-02,\n",
              "        3.6663027e-05, 8.5509487e-04, 3.3091076e-04, 1.0580407e-04,\n",
              "        4.6429494e-01, 1.2575918e-01],\n",
              "       [9.9709547e-01, 1.4111649e-03, 9.5811294e-04, 8.8672336e-05,\n",
              "        3.7189206e-04, 5.9840293e-09, 1.3021844e-05, 2.2493969e-06,\n",
              "        5.6397977e-05, 2.9961639e-06],\n",
              "       [4.0999561e-07, 4.4956951e-07, 7.7338484e-03, 6.5690861e-04,\n",
              "        6.0896468e-01, 8.1198879e-05, 3.8256109e-01, 1.2360149e-08,\n",
              "        1.2768140e-06, 2.0553829e-08]], dtype=float32)"
            ]
          },
          "metadata": {
            "tags": []
          },
          "execution_count": 23
        }
      ]
    },
    {
      "cell_type": "code",
      "metadata": {
        "colab": {
          "base_uri": "https://localhost:8080/"
        },
        "id": "d-JXVGNyuQWO",
        "outputId": "93a35670-4090-43bb-e46e-b5fa3b641e92"
      },
      "source": [
        "y_classes = [np.argmax(element) for element in y_pred]\n",
        "y_classes[:5]"
      ],
      "execution_count": null,
      "outputs": [
        {
          "output_type": "execute_result",
          "data": {
            "text/plain": [
              "[3, 8, 8, 0, 4]"
            ]
          },
          "metadata": {
            "tags": []
          },
          "execution_count": 27
        }
      ]
    },
    {
      "cell_type": "code",
      "metadata": {
        "colab": {
          "base_uri": "https://localhost:8080/"
        },
        "id": "ACG6pQoAtkjg",
        "outputId": "be0bec96-daaa-4d35-d6f4-09eb6bcfc9a3"
      },
      "source": [
        "y_test[:5]"
      ],
      "execution_count": null,
      "outputs": [
        {
          "output_type": "execute_result",
          "data": {
            "text/plain": [
              "array([3, 8, 8, 0, 6], dtype=uint8)"
            ]
          },
          "metadata": {
            "tags": []
          },
          "execution_count": 28
        }
      ]
    },
    {
      "cell_type": "code",
      "metadata": {
        "colab": {
          "base_uri": "https://localhost:8080/",
          "height": 173
        },
        "id": "RSN9gFPNtprJ",
        "outputId": "8c8db228-e707-4cba-e904-b78bcd9908a5"
      },
      "source": [
        "plot_sample(X_test, y_test,3)"
      ],
      "execution_count": null,
      "outputs": [
        {
          "output_type": "display_data",
          "data": {
            "image/png": "[encoded data removed]",
            "text/plain": [
              "<Figure size 1080x144 with 1 Axes>"
            ]
          },
          "metadata": {
            "tags": [],
            "needs_background": "light"
          }
        }
      ]
    },
    {
      "cell_type": "code",
      "metadata": {
        "colab": {
          "base_uri": "https://localhost:8080/",
          "height": 35
        },
        "id": "KnGSva6ptr7T",
        "outputId": "96254868-dce5-47fd-f357-9e84fa47757a"
      },
      "source": [
        "classes[y_classes[3]]"
      ],
      "execution_count": null,
      "outputs": [
        {
          "output_type": "execute_result",
          "data": {
            "application/vnd.google.colaboratory.intrinsic+json": {
              "type": "string"
            },
            "text/plain": [
              "'airplane'"
            ]
          },
          "metadata": {
            "tags": []
          },
          "execution_count": 30
        }
      ]
    }
  ]
}